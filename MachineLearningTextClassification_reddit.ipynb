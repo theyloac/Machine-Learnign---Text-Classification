{
  "nbformat": 4,
  "nbformat_minor": 0,
  "metadata": {
    "colab": {
      "provenance": [],
      "authorship_tag": "ABX9TyO+qTfSZ3GxivxCMbmEBZKp"
    },
    "kernelspec": {
      "name": "python3",
      "display_name": "Python 3"
    },
    "language_info": {
      "name": "python"
    }
  },
  "cells": [
    {
      "cell_type": "code",
      "source": [
        "!pip install asyncpraw\n",
        "!pip install config"
      ],
      "metadata": {
        "collapsed": true,
        "colab": {
          "base_uri": "https://localhost:8080/"
        },
        "id": "de7Oyf_zzjns",
        "outputId": "21ce62ac-2f53-43f6-bcd0-788be5f7515b"
      },
      "execution_count": 10,
      "outputs": [
        {
          "output_type": "stream",
          "name": "stdout",
          "text": [
            "Collecting asyncpraw\n",
            "  Downloading asyncpraw-7.8.1-py3-none-any.whl.metadata (9.0 kB)\n",
            "Collecting aiofiles (from asyncpraw)\n",
            "  Downloading aiofiles-24.1.0-py3-none-any.whl.metadata (10 kB)\n",
            "Requirement already satisfied: aiohttp<4 in /usr/local/lib/python3.10/dist-packages (from asyncpraw) (3.11.10)\n",
            "Collecting aiosqlite<=0.17.0 (from asyncpraw)\n",
            "  Downloading aiosqlite-0.17.0-py3-none-any.whl.metadata (4.1 kB)\n",
            "Collecting asyncprawcore<3,>=2.4 (from asyncpraw)\n",
            "  Downloading asyncprawcore-2.4.0-py3-none-any.whl.metadata (5.5 kB)\n",
            "Requirement already satisfied: update_checker>=0.18 in /usr/local/lib/python3.10/dist-packages (from asyncpraw) (0.18.0)\n",
            "Requirement already satisfied: aiohappyeyeballs>=2.3.0 in /usr/local/lib/python3.10/dist-packages (from aiohttp<4->asyncpraw) (2.4.4)\n",
            "Requirement already satisfied: aiosignal>=1.1.2 in /usr/local/lib/python3.10/dist-packages (from aiohttp<4->asyncpraw) (1.3.2)\n",
            "Requirement already satisfied: async-timeout<6.0,>=4.0 in /usr/local/lib/python3.10/dist-packages (from aiohttp<4->asyncpraw) (4.0.3)\n",
            "Requirement already satisfied: attrs>=17.3.0 in /usr/local/lib/python3.10/dist-packages (from aiohttp<4->asyncpraw) (24.3.0)\n",
            "Requirement already satisfied: frozenlist>=1.1.1 in /usr/local/lib/python3.10/dist-packages (from aiohttp<4->asyncpraw) (1.5.0)\n",
            "Requirement already satisfied: multidict<7.0,>=4.5 in /usr/local/lib/python3.10/dist-packages (from aiohttp<4->asyncpraw) (6.1.0)\n",
            "Requirement already satisfied: propcache>=0.2.0 in /usr/local/lib/python3.10/dist-packages (from aiohttp<4->asyncpraw) (0.2.1)\n",
            "Requirement already satisfied: yarl<2.0,>=1.17.0 in /usr/local/lib/python3.10/dist-packages (from aiohttp<4->asyncpraw) (1.18.3)\n",
            "Requirement already satisfied: typing_extensions>=3.7.2 in /usr/local/lib/python3.10/dist-packages (from aiosqlite<=0.17.0->asyncpraw) (4.12.2)\n",
            "Requirement already satisfied: requests>=2.3.0 in /usr/local/lib/python3.10/dist-packages (from update_checker>=0.18->asyncpraw) (2.32.3)\n",
            "Requirement already satisfied: charset-normalizer<4,>=2 in /usr/local/lib/python3.10/dist-packages (from requests>=2.3.0->update_checker>=0.18->asyncpraw) (3.4.0)\n",
            "Requirement already satisfied: idna<4,>=2.5 in /usr/local/lib/python3.10/dist-packages (from requests>=2.3.0->update_checker>=0.18->asyncpraw) (3.10)\n",
            "Requirement already satisfied: urllib3<3,>=1.21.1 in /usr/local/lib/python3.10/dist-packages (from requests>=2.3.0->update_checker>=0.18->asyncpraw) (2.2.3)\n",
            "Requirement already satisfied: certifi>=2017.4.17 in /usr/local/lib/python3.10/dist-packages (from requests>=2.3.0->update_checker>=0.18->asyncpraw) (2024.12.14)\n",
            "Downloading asyncpraw-7.8.1-py3-none-any.whl (196 kB)\n",
            "\u001b[2K   \u001b[90m━━━━━━━━━━━━━━━━━━━━━━━━━━━━━━━━━━━━━━━━\u001b[0m \u001b[32m196.4/196.4 kB\u001b[0m \u001b[31m4.5 MB/s\u001b[0m eta \u001b[36m0:00:00\u001b[0m\n",
            "\u001b[?25hDownloading aiosqlite-0.17.0-py3-none-any.whl (15 kB)\n",
            "Downloading asyncprawcore-2.4.0-py3-none-any.whl (19 kB)\n",
            "Downloading aiofiles-24.1.0-py3-none-any.whl (15 kB)\n",
            "Installing collected packages: aiosqlite, aiofiles, asyncprawcore, asyncpraw\n",
            "Successfully installed aiofiles-24.1.0 aiosqlite-0.17.0 asyncpraw-7.8.1 asyncprawcore-2.4.0\n",
            "Requirement already satisfied: config in /usr/local/lib/python3.10/dist-packages (0.5.1)\n"
          ]
        }
      ]
    },
    {
      "cell_type": "code",
      "execution_count": 19,
      "metadata": {
        "id": "Iikm2LkEvk62"
      },
      "outputs": [],
      "source": [
        "# Packages\n",
        "\n",
        "import re\n",
        "import praw\n",
        "import config\n",
        "import numpy as np\n",
        "from sklearn.model_selection import train_test_split\n",
        "from sklearn.feature_extraction.text import TfidfVectorizer\n",
        "from sklearn.decomposition import TruncatedSVD\n",
        "from sklearn.neighbors import KNeighborsClassifier\n",
        "from sklearn.ensemble import RandomForestClassifier\n",
        "from sklearn.linear_model import LogisticRegressionCV\n",
        "from sklearn.metrics import classification_report\n",
        "from sklearn.pipeline import Pipeline\n",
        "from sklearn.metrics import confusion_matrix\n",
        "import matplotlib.pyplot as plt\n",
        "import seaborn as sns\n"
      ]
    },
    {
      "cell_type": "markdown",
      "source": [
        "## Load Data"
      ],
      "metadata": {
        "id": "eYHZ6xVixK8-"
      }
    },
    {
      "cell_type": "code",
      "source": [
        "# Configure and authenticate with Reddit API using your credentials\n",
        "api_reddit = praw.Reddit(client_id=\"replace with your data\", client_secret=\"replace with your data\", password=\"replace with your data\", user_agent=\"replace with your data\", username=\"replace with your data\")\n",
        "\n",
        "# Define subreddits from which to scrape posts\n",
        "assuntos = ['datascience', 'machinelearning', 'physics', 'astrology', 'conspiracy']\n",
        "\n",
        "# Initialize list to hold text data\n",
        "data = []\n",
        "\n",
        "# Initialize list to hold label indices corresponding to subreddits\n",
        "labels = []\n",
        "\n",
        "# Lambda function to remove non-alphanumeric characters and count remaining characters in post text\n",
        "char_count = lambda post: len(re.sub('\\W|\\d', '', post.selftext))\n",
        "\n",
        "# Lambda function to check if post text has at least 100 characters\n",
        "mask = lambda post: char_count(post) >= 100\n",
        "\n",
        "# Loop through each subreddit, fetch and filter posts, and append them to the data and labels lists\n",
        "for i, assunto in enumerate(assuntos):\n",
        "    # Access the subreddit\n",
        "    subreddit_data = api_reddit.subreddit(assunto).new(limit=1000)\n",
        "    # Filter posts using the mask and extract their text\n",
        "    posts = [post.selftext for post in filter(mask, subreddit_data)]\n",
        "    # Extend the data list with these posts\n",
        "    data.extend(posts)\n",
        "    # Append corresponding index to labels list for each post\n",
        "    labels.extend([i] * len(posts))\n",
        "    # Output the number of posts fetched and a snippet of one post\n",
        "    print(f\"Número of posts about r/{assunto}: {len(posts)}\", f\"\\nSample of one post: {posts[0][:600]}...\\n\", \"_\" * 80 + '\\n')\n"
      ],
      "metadata": {
        "colab": {
          "base_uri": "https://localhost:8080/"
        },
        "id": "megpRjQ2vywY",
        "outputId": "0e0761a4-f170-4606-b0b4-980542552e2d"
      },
      "execution_count": 21,
      "outputs": [
        {
          "output_type": "stream",
          "name": "stderr",
          "text": [
            "WARNING:praw:It appears that you are using PRAW in an asynchronous environment.\n",
            "It is strongly recommended to use Async PRAW: https://asyncpraw.readthedocs.io.\n",
            "See https://praw.readthedocs.io/en/latest/getting_started/multiple_instances.html#discord-bots-and-asynchronous-environments for more info.\n",
            "\n",
            "WARNING:praw:It appears that you are using PRAW in an asynchronous environment.\n",
            "It is strongly recommended to use Async PRAW: https://asyncpraw.readthedocs.io.\n",
            "See https://praw.readthedocs.io/en/latest/getting_started/multiple_instances.html#discord-bots-and-asynchronous-environments for more info.\n",
            "\n",
            "WARNING:praw:It appears that you are using PRAW in an asynchronous environment.\n",
            "It is strongly recommended to use Async PRAW: https://asyncpraw.readthedocs.io.\n",
            "See https://praw.readthedocs.io/en/latest/getting_started/multiple_instances.html#discord-bots-and-asynchronous-environments for more info.\n",
            "\n",
            "WARNING:praw:It appears that you are using PRAW in an asynchronous environment.\n",
            "It is strongly recommended to use Async PRAW: https://asyncpraw.readthedocs.io.\n",
            "See https://praw.readthedocs.io/en/latest/getting_started/multiple_instances.html#discord-bots-and-asynchronous-environments for more info.\n",
            "\n",
            "WARNING:praw:It appears that you are using PRAW in an asynchronous environment.\n",
            "It is strongly recommended to use Async PRAW: https://asyncpraw.readthedocs.io.\n",
            "See https://praw.readthedocs.io/en/latest/getting_started/multiple_instances.html#discord-bots-and-asynchronous-environments for more info.\n",
            "\n",
            "WARNING:praw:It appears that you are using PRAW in an asynchronous environment.\n",
            "It is strongly recommended to use Async PRAW: https://asyncpraw.readthedocs.io.\n",
            "See https://praw.readthedocs.io/en/latest/getting_started/multiple_instances.html#discord-bots-and-asynchronous-environments for more info.\n",
            "\n",
            "WARNING:praw:It appears that you are using PRAW in an asynchronous environment.\n",
            "It is strongly recommended to use Async PRAW: https://asyncpraw.readthedocs.io.\n",
            "See https://praw.readthedocs.io/en/latest/getting_started/multiple_instances.html#discord-bots-and-asynchronous-environments for more info.\n",
            "\n"
          ]
        },
        {
          "output_type": "stream",
          "name": "stdout",
          "text": [
            "Número de posts do assunto r/datascience: 461 \n",
            "Um dos posts extraídos: One of the trending repos on GitHub for a week, genesis-world is a python package which can generate realistic 4D physics simulations (with no irregularities in any mechanism) given just a prompt. The early samples looks great and the package is open-sourced (except the GenAI part). Check more details here : https://youtu.be/hYjuwnRRhBk?si=i63XDcAlxXu-ZmTR...\n",
            " ________________________________________________________________________________\n",
            "\n"
          ]
        },
        {
          "output_type": "stream",
          "name": "stderr",
          "text": [
            "WARNING:praw:It appears that you are using PRAW in an asynchronous environment.\n",
            "It is strongly recommended to use Async PRAW: https://asyncpraw.readthedocs.io.\n",
            "See https://praw.readthedocs.io/en/latest/getting_started/multiple_instances.html#discord-bots-and-asynchronous-environments for more info.\n",
            "\n",
            "WARNING:praw:It appears that you are using PRAW in an asynchronous environment.\n",
            "It is strongly recommended to use Async PRAW: https://asyncpraw.readthedocs.io.\n",
            "See https://praw.readthedocs.io/en/latest/getting_started/multiple_instances.html#discord-bots-and-asynchronous-environments for more info.\n",
            "\n",
            "WARNING:praw:It appears that you are using PRAW in an asynchronous environment.\n",
            "It is strongly recommended to use Async PRAW: https://asyncpraw.readthedocs.io.\n",
            "See https://praw.readthedocs.io/en/latest/getting_started/multiple_instances.html#discord-bots-and-asynchronous-environments for more info.\n",
            "\n",
            "WARNING:praw:It appears that you are using PRAW in an asynchronous environment.\n",
            "It is strongly recommended to use Async PRAW: https://asyncpraw.readthedocs.io.\n",
            "See https://praw.readthedocs.io/en/latest/getting_started/multiple_instances.html#discord-bots-and-asynchronous-environments for more info.\n",
            "\n",
            "WARNING:praw:It appears that you are using PRAW in an asynchronous environment.\n",
            "It is strongly recommended to use Async PRAW: https://asyncpraw.readthedocs.io.\n",
            "See https://praw.readthedocs.io/en/latest/getting_started/multiple_instances.html#discord-bots-and-asynchronous-environments for more info.\n",
            "\n",
            "WARNING:praw:It appears that you are using PRAW in an asynchronous environment.\n",
            "It is strongly recommended to use Async PRAW: https://asyncpraw.readthedocs.io.\n",
            "See https://praw.readthedocs.io/en/latest/getting_started/multiple_instances.html#discord-bots-and-asynchronous-environments for more info.\n",
            "\n",
            "WARNING:praw:It appears that you are using PRAW in an asynchronous environment.\n",
            "It is strongly recommended to use Async PRAW: https://asyncpraw.readthedocs.io.\n",
            "See https://praw.readthedocs.io/en/latest/getting_started/multiple_instances.html#discord-bots-and-asynchronous-environments for more info.\n",
            "\n",
            "WARNING:praw:It appears that you are using PRAW in an asynchronous environment.\n",
            "It is strongly recommended to use Async PRAW: https://asyncpraw.readthedocs.io.\n",
            "See https://praw.readthedocs.io/en/latest/getting_started/multiple_instances.html#discord-bots-and-asynchronous-environments for more info.\n",
            "\n",
            "WARNING:praw:It appears that you are using PRAW in an asynchronous environment.\n",
            "It is strongly recommended to use Async PRAW: https://asyncpraw.readthedocs.io.\n",
            "See https://praw.readthedocs.io/en/latest/getting_started/multiple_instances.html#discord-bots-and-asynchronous-environments for more info.\n",
            "\n"
          ]
        },
        {
          "output_type": "stream",
          "name": "stdout",
          "text": [
            "Número de posts do assunto r/machinelearning: 820 \n",
            "Um dos posts extraídos: hi guys im a phd student doing reinforcement learning and transformer for real world application. I want tp get a powerful laptop that lasts me for the entirety of my phd.\n",
            "\n",
            "im confused between two options:\n",
            "\n",
            "\\- MacBook Pro m4 max 64 gb unified memory vs\n",
            "\n",
            "\\- Razer Blade 16 (2024) - 16 inch Gaming Laptop - NVIDIA GeForce RTX 4080 - Intel Core i9-14900HX (32GB DDR5, 1TB SSD)\n",
            "\n",
            "could anyone help me decide? also if you have any better suggestions please lmk.\n",
            "\n",
            "I will be using the hpc for most training, I need for inference and designing to test before running on hpc...\n",
            " ________________________________________________________________________________\n",
            "\n"
          ]
        },
        {
          "output_type": "stream",
          "name": "stderr",
          "text": [
            "WARNING:praw:It appears that you are using PRAW in an asynchronous environment.\n",
            "It is strongly recommended to use Async PRAW: https://asyncpraw.readthedocs.io.\n",
            "See https://praw.readthedocs.io/en/latest/getting_started/multiple_instances.html#discord-bots-and-asynchronous-environments for more info.\n",
            "\n",
            "WARNING:praw:It appears that you are using PRAW in an asynchronous environment.\n",
            "It is strongly recommended to use Async PRAW: https://asyncpraw.readthedocs.io.\n",
            "See https://praw.readthedocs.io/en/latest/getting_started/multiple_instances.html#discord-bots-and-asynchronous-environments for more info.\n",
            "\n",
            "WARNING:praw:It appears that you are using PRAW in an asynchronous environment.\n",
            "It is strongly recommended to use Async PRAW: https://asyncpraw.readthedocs.io.\n",
            "See https://praw.readthedocs.io/en/latest/getting_started/multiple_instances.html#discord-bots-and-asynchronous-environments for more info.\n",
            "\n",
            "WARNING:praw:It appears that you are using PRAW in an asynchronous environment.\n",
            "It is strongly recommended to use Async PRAW: https://asyncpraw.readthedocs.io.\n",
            "See https://praw.readthedocs.io/en/latest/getting_started/multiple_instances.html#discord-bots-and-asynchronous-environments for more info.\n",
            "\n",
            "WARNING:praw:It appears that you are using PRAW in an asynchronous environment.\n",
            "It is strongly recommended to use Async PRAW: https://asyncpraw.readthedocs.io.\n",
            "See https://praw.readthedocs.io/en/latest/getting_started/multiple_instances.html#discord-bots-and-asynchronous-environments for more info.\n",
            "\n"
          ]
        },
        {
          "output_type": "stream",
          "name": "stdout",
          "text": [
            "Número de posts do assunto r/physics: 264 \n",
            "Um dos posts extraídos: # Book Recommendation:\n",
            "\n",
            "Hi! I Have always wanted to get into physics, I Have always been fascinated with science and math basically STEM and I really the idea of knowing how the world around you works. Anyways I Need a Book, I Wanted a book that had a lot of chapters and going over all of physics, and mainly I have two options:\n",
            "\n",
            "**Physics: Principles with Applications by Douglas C. Giancoli**\n",
            "\n",
            "**University Physics (With Modern Physics) by High D. Young**\n",
            "\n",
            "I Don't really mind the calculus in university physics, nor I really need it.\n",
            "\n",
            "So kind of, Both of these are great options, I don't really m...\n",
            " ________________________________________________________________________________\n",
            "\n"
          ]
        },
        {
          "output_type": "stream",
          "name": "stderr",
          "text": [
            "WARNING:praw:It appears that you are using PRAW in an asynchronous environment.\n",
            "It is strongly recommended to use Async PRAW: https://asyncpraw.readthedocs.io.\n",
            "See https://praw.readthedocs.io/en/latest/getting_started/multiple_instances.html#discord-bots-and-asynchronous-environments for more info.\n",
            "\n",
            "WARNING:praw:It appears that you are using PRAW in an asynchronous environment.\n",
            "It is strongly recommended to use Async PRAW: https://asyncpraw.readthedocs.io.\n",
            "See https://praw.readthedocs.io/en/latest/getting_started/multiple_instances.html#discord-bots-and-asynchronous-environments for more info.\n",
            "\n",
            "WARNING:praw:It appears that you are using PRAW in an asynchronous environment.\n",
            "It is strongly recommended to use Async PRAW: https://asyncpraw.readthedocs.io.\n",
            "See https://praw.readthedocs.io/en/latest/getting_started/multiple_instances.html#discord-bots-and-asynchronous-environments for more info.\n",
            "\n",
            "WARNING:praw:It appears that you are using PRAW in an asynchronous environment.\n",
            "It is strongly recommended to use Async PRAW: https://asyncpraw.readthedocs.io.\n",
            "See https://praw.readthedocs.io/en/latest/getting_started/multiple_instances.html#discord-bots-and-asynchronous-environments for more info.\n",
            "\n",
            "WARNING:praw:It appears that you are using PRAW in an asynchronous environment.\n",
            "It is strongly recommended to use Async PRAW: https://asyncpraw.readthedocs.io.\n",
            "See https://praw.readthedocs.io/en/latest/getting_started/multiple_instances.html#discord-bots-and-asynchronous-environments for more info.\n",
            "\n",
            "WARNING:praw:It appears that you are using PRAW in an asynchronous environment.\n",
            "It is strongly recommended to use Async PRAW: https://asyncpraw.readthedocs.io.\n",
            "See https://praw.readthedocs.io/en/latest/getting_started/multiple_instances.html#discord-bots-and-asynchronous-environments for more info.\n",
            "\n",
            "WARNING:praw:It appears that you are using PRAW in an asynchronous environment.\n",
            "It is strongly recommended to use Async PRAW: https://asyncpraw.readthedocs.io.\n",
            "See https://praw.readthedocs.io/en/latest/getting_started/multiple_instances.html#discord-bots-and-asynchronous-environments for more info.\n",
            "\n"
          ]
        },
        {
          "output_type": "stream",
          "name": "stdout",
          "text": [
            "Número de posts do assunto r/astrology: 531 \n",
            "Um dos posts extraídos: I just finished listening to The Astrology Podcast’s year ahead episode for 2025 and really enjoyed hearing Chris Brennan talk about the way eclipses will be lighting up two houses in each sign and the themes that will come from them. \n",
            "\n",
            "I would love to dive jnto the subject a little more now and see not only what eclipses mean in astrology in general, but how they manifest in people’s lives and what the upcoming eclipses over the next few years are predicted to be. Would appreciate any links or free/low-cost sources others may know of! ...\n",
            " ________________________________________________________________________________\n",
            "\n"
          ]
        },
        {
          "output_type": "stream",
          "name": "stderr",
          "text": [
            "WARNING:praw:It appears that you are using PRAW in an asynchronous environment.\n",
            "It is strongly recommended to use Async PRAW: https://asyncpraw.readthedocs.io.\n",
            "See https://praw.readthedocs.io/en/latest/getting_started/multiple_instances.html#discord-bots-and-asynchronous-environments for more info.\n",
            "\n",
            "WARNING:praw:It appears that you are using PRAW in an asynchronous environment.\n",
            "It is strongly recommended to use Async PRAW: https://asyncpraw.readthedocs.io.\n",
            "See https://praw.readthedocs.io/en/latest/getting_started/multiple_instances.html#discord-bots-and-asynchronous-environments for more info.\n",
            "\n",
            "WARNING:praw:It appears that you are using PRAW in an asynchronous environment.\n",
            "It is strongly recommended to use Async PRAW: https://asyncpraw.readthedocs.io.\n",
            "See https://praw.readthedocs.io/en/latest/getting_started/multiple_instances.html#discord-bots-and-asynchronous-environments for more info.\n",
            "\n",
            "WARNING:praw:It appears that you are using PRAW in an asynchronous environment.\n",
            "It is strongly recommended to use Async PRAW: https://asyncpraw.readthedocs.io.\n",
            "See https://praw.readthedocs.io/en/latest/getting_started/multiple_instances.html#discord-bots-and-asynchronous-environments for more info.\n",
            "\n",
            "WARNING:praw:It appears that you are using PRAW in an asynchronous environment.\n",
            "It is strongly recommended to use Async PRAW: https://asyncpraw.readthedocs.io.\n",
            "See https://praw.readthedocs.io/en/latest/getting_started/multiple_instances.html#discord-bots-and-asynchronous-environments for more info.\n",
            "\n",
            "WARNING:praw:It appears that you are using PRAW in an asynchronous environment.\n",
            "It is strongly recommended to use Async PRAW: https://asyncpraw.readthedocs.io.\n",
            "See https://praw.readthedocs.io/en/latest/getting_started/multiple_instances.html#discord-bots-and-asynchronous-environments for more info.\n",
            "\n",
            "WARNING:praw:It appears that you are using PRAW in an asynchronous environment.\n",
            "It is strongly recommended to use Async PRAW: https://asyncpraw.readthedocs.io.\n",
            "See https://praw.readthedocs.io/en/latest/getting_started/multiple_instances.html#discord-bots-and-asynchronous-environments for more info.\n",
            "\n",
            "WARNING:praw:It appears that you are using PRAW in an asynchronous environment.\n",
            "It is strongly recommended to use Async PRAW: https://asyncpraw.readthedocs.io.\n",
            "See https://praw.readthedocs.io/en/latest/getting_started/multiple_instances.html#discord-bots-and-asynchronous-environments for more info.\n",
            "\n",
            "WARNING:praw:It appears that you are using PRAW in an asynchronous environment.\n",
            "It is strongly recommended to use Async PRAW: https://asyncpraw.readthedocs.io.\n",
            "See https://praw.readthedocs.io/en/latest/getting_started/multiple_instances.html#discord-bots-and-asynchronous-environments for more info.\n",
            "\n"
          ]
        },
        {
          "output_type": "stream",
          "name": "stdout",
          "text": [
            "Número de posts do assunto r/conspiracy: 532 \n",
            "Um dos posts extraídos: I thought countries like Argentina and Venezuela had out of control inflation? What cause the inflation in Argentina and Venezuela.\n",
            "\n",
            "I hear today there still high inflation in Argentina and Venezuela and it is not coming down but getting worse.\n",
            "\n",
            "\n",
            "\n",
            "...\n",
            " ________________________________________________________________________________\n",
            "\n"
          ]
        }
      ]
    },
    {
      "cell_type": "markdown",
      "source": [
        "## Split data"
      ],
      "metadata": {
        "id": "ZcBd67aKxQ0c"
      }
    },
    {
      "cell_type": "code",
      "source": [
        "# Define the proportion of data to set aside for testing\n",
        "TEST_SIZE = .2\n",
        "# Set a random seed for reproducibility\n",
        "RANDOM_STATE = 0\n",
        "\n",
        "# Split the data and labels into training and testing sets\n",
        "X_treino, X_teste, y_treino, y_teste = train_test_split(data, labels, test_size=TEST_SIZE, random_state=RANDOM_STATE)\n",
        "# Print the number of samples in the test set\n",
        "print(f\"{len(y_teste)} test samples.\")\n"
      ],
      "metadata": {
        "colab": {
          "base_uri": "https://localhost:8080/"
        },
        "id": "QSjLAgoKwEhk",
        "outputId": "a6a4dc94-9611-44c0-feb1-73b75508a8b7"
      },
      "execution_count": 22,
      "outputs": [
        {
          "output_type": "stream",
          "name": "stdout",
          "text": [
            "522 amostras de teste.\n"
          ]
        }
      ]
    },
    {
      "cell_type": "markdown",
      "source": [
        "# Preprocessing Pipeline"
      ],
      "metadata": {
        "id": "P9Vb0MyIxc5D"
      }
    },
    {
      "cell_type": "code",
      "source": [
        "# Define a pattern to identify unwanted characters in the text\n",
        "pattern = r'\\W|\\d|http.*\\s+|www.*\\s+'\n",
        "\n",
        "# Define a preprocessor that removes unwanted characters from text\n",
        "preprocessor = lambda text: re.sub(pattern, ' ', text)\n",
        "\n",
        "# Configure the TF-IDF vectorizer with the custom preprocessor\n",
        "vectorizer = TfidfVectorizer(preprocessor=preprocessor, stop_words='english', min_df=1)\n",
        "\n",
        "# Set up the Truncated SVD to reduce the dimensionality of the feature set\n",
        "decomposition = TruncatedSVD(n_components=1000, n_iter=30)\n",
        "\n",
        "# Combine the vectorizer and SVD into a preprocessing pipeline\n",
        "pipeline = [('tfidf', vectorizer), ('svd', decomposition)]\n"
      ],
      "metadata": {
        "id": "7v-Xjlk8wH4g"
      },
      "execution_count": 23,
      "outputs": []
    },
    {
      "cell_type": "markdown",
      "source": [
        "# Model Creation"
      ],
      "metadata": {
        "id": "k2L88u-HyFK7"
      }
    },
    {
      "cell_type": "code",
      "source": [
        "# Initialize a K-Nearest Neighbors model with 4 neighbors\n",
        "modelo_1 = KNeighborsClassifier(n_neighbors=4)\n",
        "\n",
        "# Initialize a Random Forest model with a random state for reproducibility\n",
        "modelo_2 = RandomForestClassifier(random_state=RANDOM_STATE)\n",
        "\n",
        "# Initialize a Logistic Regression model with cross-validation\n",
        "modelo_3 = LogisticRegressionCV(cv=3, random_state=RANDOM_STATE)\n",
        "\n",
        "# Combine all models into a list for later processing\n",
        "all_models = [(\"KNN\", modelo_1), (\"RandomForest\", modelo_2), (\"LogReg\", modelo_3)]\n",
        "\n"
      ],
      "metadata": {
        "id": "fnhqDqhhwKWL"
      },
      "execution_count": 24,
      "outputs": []
    },
    {
      "cell_type": "markdown",
      "source": [
        "# Train and Evaluate Models"
      ],
      "metadata": {
        "id": "oVPs5QJyyS7B"
      }
    },
    {
      "cell_type": "code",
      "source": [
        "# Initialize an empty list to store results\n",
        "resultados = []\n",
        "\n",
        "# Loop through each model, fit it on the training data, and evaluate it on the test data\n",
        "for name, modelo in all_models:\n",
        "    # Create a pipeline combining the preprocessing pipeline with the current model\n",
        "    pipe = Pipeline(pipeline + [(name, modelo)])\n",
        "    # Train the model\n",
        "    pipe.fit(X_treino, y_treino)\n",
        "    # Predict the labels of the test set\n",
        "    y_pred = pipe.predict(X_teste)\n",
        "    # Generate a classification report\n",
        "    report = classification_report(y_teste, y_pred)\n",
        "    # Print the classification report\n",
        "    print(f\"{name} report\\n\", report)\n",
        "    # Store the model and its evaluation results in the list\n",
        "    resultados.append([modelo, {'model': name, 'predictions': y_pred, 'report': report}])\n"
      ],
      "metadata": {
        "colab": {
          "base_uri": "https://localhost:8080/"
        },
        "id": "fa5koFtUwuiP",
        "outputId": "69af7423-5d7a-4241-eb96-67e15dc441c7"
      },
      "execution_count": 25,
      "outputs": [
        {
          "output_type": "stream",
          "name": "stdout",
          "text": [
            "Relatório de Classificação para KNN\n",
            "               precision    recall  f1-score   support\n",
            "\n",
            "           0       0.57      0.60      0.59        86\n",
            "           1       0.63      0.86      0.73       168\n",
            "           2       0.91      0.57      0.70        51\n",
            "           3       0.84      0.80      0.82       106\n",
            "           4       0.87      0.55      0.67       111\n",
            "\n",
            "    accuracy                           0.71       522\n",
            "   macro avg       0.76      0.68      0.70       522\n",
            "weighted avg       0.74      0.71      0.71       522\n",
            "\n",
            "Relatório de Classificação para RandomForest\n",
            "               precision    recall  f1-score   support\n",
            "\n",
            "           0       0.75      0.31      0.44        86\n",
            "           1       0.64      0.94      0.76       168\n",
            "           2       1.00      0.47      0.64        51\n",
            "           3       0.90      0.88      0.89       106\n",
            "           4       0.78      0.78      0.78       111\n",
            "\n",
            "    accuracy                           0.75       522\n",
            "   macro avg       0.81      0.68      0.70       522\n",
            "weighted avg       0.78      0.75      0.73       522\n",
            "\n",
            "Relatório de Classificação para LogReg\n",
            "               precision    recall  f1-score   support\n",
            "\n",
            "           0       0.81      0.67      0.73        86\n",
            "           1       0.81      0.91      0.86       168\n",
            "           2       0.97      0.57      0.72        51\n",
            "           3       0.96      0.93      0.95       106\n",
            "           4       0.82      0.95      0.88       111\n",
            "\n",
            "    accuracy                           0.85       522\n",
            "   macro avg       0.87      0.81      0.83       522\n",
            "weighted avg       0.86      0.85      0.85       522\n",
            "\n"
          ]
        }
      ]
    },
    {
      "cell_type": "markdown",
      "source": [
        "# Visualize Results"
      ],
      "metadata": {
        "id": "kXk8nrw1yZRo"
      }
    },
    {
      "cell_type": "code",
      "source": [
        "# Calculate the count of posts per subreddit\n",
        "_, counts = np.unique(labels, return_counts=True)\n",
        "\n",
        "# Set the seaborn theme for visualizations\n",
        "sns.set_theme(style=\"whitegrid\")\n",
        "\n",
        "# Create a bar plot to visualize the number of posts per subreddit\n",
        "plt.figure(figsize=(15, 6), dpi=120)\n",
        "plt.title(\"Number of post per subjects\")\n",
        "sns.barplot(x=assuntos, y=counts)\n",
        "\n",
        "# Add a legend to the plot\n",
        "plt.legend([' '.join([f.title(), f\"- {c} posts\"]) for f, c in zip(assuntos, counts)])\n",
        "plt.show()\n"
      ],
      "metadata": {
        "colab": {
          "base_uri": "https://localhost:8080/",
          "height": 654
        },
        "id": "VCXuTKtkwxSm",
        "outputId": "9390a70c-c722-4bb4-e09e-5f8e0f6f241c"
      },
      "execution_count": 26,
      "outputs": [
        {
          "output_type": "display_data",
          "data": {
            "text/plain": [
              "<Figure size 1800x720 with 1 Axes>"
            ],
            "image/png": "[encoded data removed]"
          },
          "metadata": {}
        }
      ]
    },
    {
      "cell_type": "markdown",
      "source": [
        "# Plot Confusion Matrix"
      ],
      "metadata": {
        "id": "4i9btlLxygXf"
      }
    },
    {
      "cell_type": "code",
      "source": [
        "# Function to display a confusion matrix for a given result\n",
        "def plot_confusion(result):\n",
        "    # Print the classification report\n",
        "    print(\"Classification report\\n\", result['report'])\n",
        "\n",
        "    # Extract predicted labels\n",
        "    y_pred = result['predictions']\n",
        "\n",
        "    # Compute the confusion matrix\n",
        "    conf_matrix = confusion_matrix(y_teste, y_pred)\n",
        "\n",
        "    # Normalize the confusion matrix\n",
        "    _, test_counts = np.unique(y_teste, return_counts=True)\n",
        "    conf_matrix_percent = conf_matrix / test_counts.transpose() * 100\n",
        "\n",
        "    # Plot the normalized confusion matrix\n",
        "    plt.figure(figsize=(9, 8), dpi=120)\n",
        "    plt.title(result['modelo'].upper() + \" Resultados\")\n",
        "    plt.xlabel(\"Valor Real\")\n",
        "    plt.ylabel(\"Previsão do Modelo\")\n",
        "    ticklabels = [f\"r/{sub}\" for sub in assuntos]\n",
        "    sns.heatmap(data=conf_matrix_percent, xticklabels=ticklabels, yticklabels=ticklabels, annot=True, fmt='.2f')\n",
        "    plt.show()\n",
        "\n",
        "# Execute the function for each model's results\n",
        "for result in resultados:\n",
        "    plot_confusion(result[1])\n"
      ],
      "metadata": {
        "colab": {
          "base_uri": "https://localhost:8080/",
          "height": 523
        },
        "id": "6GCCVQw3w0g0",
        "outputId": "4b67a444-45a8-40db-e1fe-f15c7c95b751"
      },
      "execution_count": 29,
      "outputs": [
        {
          "output_type": "stream",
          "name": "stdout",
          "text": [
            "Classification report\n",
            "               precision    recall  f1-score   support\n",
            "\n",
            "           0       0.57      0.60      0.59        86\n",
            "           1       0.63      0.86      0.73       168\n",
            "           2       0.91      0.57      0.70        51\n",
            "           3       0.84      0.80      0.82       106\n",
            "           4       0.87      0.55      0.67       111\n",
            "\n",
            "    accuracy                           0.71       522\n",
            "   macro avg       0.76      0.68      0.70       522\n",
            "weighted avg       0.74      0.71      0.71       522\n",
            "\n"
          ]
        },
        {
          "output_type": "error",
          "ename": "KeyError",
          "evalue": "'predictions'",
          "traceback": [
            "\u001b[0;31m---------------------------------------------------------------------------\u001b[0m",
            "\u001b[0;31mKeyError\u001b[0m                                  Traceback (most recent call last)",
            "\u001b[0;32m<ipython-input-29-423e4ab18c19>\u001b[0m in \u001b[0;36m<cell line: 26>\u001b[0;34m()\u001b[0m\n\u001b[1;32m     25\u001b[0m \u001b[0;31m# Execute the function for each model's results\u001b[0m\u001b[0;34m\u001b[0m\u001b[0;34m\u001b[0m\u001b[0m\n\u001b[1;32m     26\u001b[0m \u001b[0;32mfor\u001b[0m \u001b[0mresult\u001b[0m \u001b[0;32min\u001b[0m \u001b[0mresultados\u001b[0m\u001b[0;34m:\u001b[0m\u001b[0;34m\u001b[0m\u001b[0;34m\u001b[0m\u001b[0m\n\u001b[0;32m---> 27\u001b[0;31m     \u001b[0mplot_confusion\u001b[0m\u001b[0;34m(\u001b[0m\u001b[0mresult\u001b[0m\u001b[0;34m[\u001b[0m\u001b[0;36m1\u001b[0m\u001b[0;34m]\u001b[0m\u001b[0;34m)\u001b[0m\u001b[0;34m\u001b[0m\u001b[0;34m\u001b[0m\u001b[0m\n\u001b[0m",
            "\u001b[0;32m<ipython-input-29-423e4ab18c19>\u001b[0m in \u001b[0;36mplot_confusion\u001b[0;34m(result)\u001b[0m\n\u001b[1;32m      5\u001b[0m \u001b[0;34m\u001b[0m\u001b[0m\n\u001b[1;32m      6\u001b[0m     \u001b[0;31m# Extract predicted labels\u001b[0m\u001b[0;34m\u001b[0m\u001b[0;34m\u001b[0m\u001b[0m\n\u001b[0;32m----> 7\u001b[0;31m     \u001b[0my_pred\u001b[0m \u001b[0;34m=\u001b[0m \u001b[0mresult\u001b[0m\u001b[0;34m[\u001b[0m\u001b[0;34m'predictions'\u001b[0m\u001b[0;34m]\u001b[0m\u001b[0;34m\u001b[0m\u001b[0;34m\u001b[0m\u001b[0m\n\u001b[0m\u001b[1;32m      8\u001b[0m \u001b[0;34m\u001b[0m\u001b[0m\n\u001b[1;32m      9\u001b[0m     \u001b[0;31m# Compute the confusion matrix\u001b[0m\u001b[0;34m\u001b[0m\u001b[0;34m\u001b[0m\u001b[0m\n",
            "\u001b[0;31mKeyError\u001b[0m: 'predictions'"
          ]
        }
      ]
    }
  ]
}